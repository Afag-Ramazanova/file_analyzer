{
 "cells": [
  {
   "cell_type": "code",
   "execution_count": 1,
   "metadata": {},
   "outputs": [],
   "source": [
    "import pandas as pd\n",
    "import re\n",
    "import os\n",
    "import random"
   ]
  },
  {
   "cell_type": "code",
   "execution_count": 2,
   "metadata": {},
   "outputs": [],
   "source": [
    "class FileAnalyzer(): \n",
    "    def __init__(self, file_path):\n",
    "        self.path = file_path\n",
    "    def check_existence(self): \n",
    "        try:\n",
    "            with open(self.path, 'r') as text: ## checking file existence\n",
    "                new = text.read()\n",
    "                return 'File exists'\n",
    "        except:\n",
    "            return 'File not exist'\n",
    "    def word_count(self):\n",
    "        with open(self.path, 'r') as text:\n",
    "            new = text.read()\n",
    "            new = re.sub(r'[^\\w\\s]', '', new) ##removing punctutation\n",
    "            list1 = []\n",
    "            for i in new.lower().split(): ## for non case sensitivite word count\n",
    "                list1.append(i)\n",
    "            return len(set(list1))\n",
    "    def char_count(self): \n",
    "        with open(self.path, 'r') as text:\n",
    "            new = text.read()\n",
    "            char_count = 0 # counting all the characters in the text\n",
    "            for i in new:\n",
    "                char_count += 1\n",
    "            return char_count\n",
    "    def word_frequency(self): \n",
    "        with open(self.path, 'r') as text:\n",
    "            new = text.read()\n",
    "            new = re.sub(r'[^\\w\\s]', '', new) #cleaning text from punctuation and spaces\n",
    "            cleaned = new.lower().split()\n",
    "            dict1 = {}\n",
    "            for i in cleaned: \n",
    "                dict1.update({i: cleaned.count(i)})\n",
    "            return dict1\n",
    "    def display_results(self):  # display all results\n",
    "        \n",
    "        print(\"File existence: \", self.check_existence())\n",
    "        print(\"Word count:\", self.word_count())\n",
    "        print(\"Character count:\", self.char_count())\n",
    "        print(\"Word frequency report:\",  self.word_frequency())"
   ]
  },
  {
   "cell_type": "code",
   "execution_count": 5,
   "metadata": {},
   "outputs": [],
   "source": [
    "a = FileAnalyzer(r'Data/essay.txt')"
   ]
  },
  {
   "cell_type": "code",
   "execution_count": 6,
   "metadata": {},
   "outputs": [
    {
     "name": "stdout",
     "output_type": "stream",
     "text": [
      "File existence:  File exists\n",
      "Word count: 164\n",
      "Character count: 1892\n",
      "Word frequency report: {'in': 8, 'many': 1, 'countries': 1, 'the': 9, 'age': 4, 'of': 11, 'crime': 3, 'is': 2, 'getting': 1, 'lowerwhat': 1, 'are': 2, 'reasons': 2, 'behind': 1, 'this': 7, 'what': 3, 'solutions': 1, 'can': 5, 'be': 10, 'taken': 2, 'to': 17, 'deal': 1, 'with': 4, 'problem': 2, 'researches': 1, 'show': 1, 'that': 2, 'recent': 1, 'years': 1, 'decreased': 1, 'more': 4, 'which': 4, 'means': 1, 'nowadays': 1, 'crimes': 1, 'committed': 1, 'by': 6, 'younger': 1, 'people': 1, 'than': 1, 'past': 1, 'essay': 1, 'we': 1, 'will': 3, 'go': 2, 'into': 1, 'details': 1, 'a': 3, 'cause': 1, 'tendency': 2, 'and': 11, 'suggest': 1, 'steps': 1, 'solve': 1, 'issue': 1, 'due': 1, 'less': 2, 'guidance': 2, 'disregard': 1, 'parents': 4, 'children': 8, 'they': 2, 'tend': 1, 'involved': 1, 'these': 1, 'kinds': 1, 'activities': 4, 'modern': 1, 'eagerly': 1, 'try': 1, 'achieve': 1, 'their': 7, 'work': 1, 'life': 1, 'balance': 1, 'but': 2, 'few': 1, 'them': 4, 'do': 2, 'it': 1, 'as': 1, 'result': 1, 'start': 1, 'spend': 2, 'time': 3, 'on': 2, 'own': 2, 'choose': 1, 'path': 1, 'leads': 2, 'engagement': 1, 'inappropriate': 2, 'additionally': 1, 'young': 1, 'want': 1, 'feel': 2, 'act': 1, 'like': 4, 'an': 5, 'adult': 2, 'doing': 2, 'some': 3, 'dangerous': 1, 'things': 1, 'having': 1, 'unwanted': 1, 'social': 2, 'circle': 1, 'usual': 1, 'outcome': 1, 'drug': 1, 'addiction': 1, 'supported': 1, 'circles': 1, 'remedies': 1, 'should': 1, 'decrease': 1, 'movement': 1, 'one': 1, 'step': 1, 'would': 3, 'for': 5, 'keep': 2, 'eye': 1, 'leisure': 2, 'talking': 1, 'or': 3, 'paying': 2, 'attention': 2, 'actions': 2, 'when': 1, 'so': 1, 'valuable': 1, 'responsible': 1, 'further': 1, 'remedy': 1, 'busy': 2, 'except': 1, 'school': 1, 'painting': 1, 'courses': 1, 'sports': 1, 'ask': 1, 'giving': 1, 'independence': 2, 'choice': 1, 'way': 1, 'childrens': 1, 'brains': 1, 'engaged': 1, 'useful': 1, 'crucial': 1, 'tasks': 1, 'free': 1, 'from': 1, 'bad': 1, 'habits': 1, 'sum': 1, 'up': 1, 'parental': 1, 'feeling': 1, 'main': 1, 'decreasing': 1, 'handled': 1, 'keeping': 1}\n"
     ]
    }
   ],
   "source": [
    "a.display_results()"
   ]
  },
  {
   "cell_type": "code",
   "execution_count": null,
   "metadata": {},
   "outputs": [],
   "source": []
  }
 ],
 "metadata": {
  "kernelspec": {
   "display_name": "Python 3",
   "language": "python",
   "name": "python3"
  },
  "language_info": {
   "codemirror_mode": {
    "name": "ipython",
    "version": 3
   },
   "file_extension": ".py",
   "mimetype": "text/x-python",
   "name": "python",
   "nbconvert_exporter": "python",
   "pygments_lexer": "ipython3",
   "version": "3.8.5"
  }
 },
 "nbformat": 4,
 "nbformat_minor": 4
}
